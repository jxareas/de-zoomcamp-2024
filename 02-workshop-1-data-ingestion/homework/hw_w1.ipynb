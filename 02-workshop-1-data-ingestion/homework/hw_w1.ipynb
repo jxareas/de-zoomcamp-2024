{
 "nbformat": 4,
 "nbformat_minor": 0,
 "metadata": {
  "colab": {
   "provenance": []
  },
  "kernelspec": {
   "name": "python3",
   "language": "python",
   "display_name": "Python 3 (ipykernel)"
  },
  "language_info": {
   "name": "python"
  }
 },
 "cells": [
  {
   "cell_type": "markdown",
   "source": [
    "# **Homework**: Data Loading Workshop"
   ],
   "metadata": {
    "id": "mrTFv5nPClXh"
   }
  },
  {
   "cell_type": "markdown",
   "source": [
    "# 1. Use a generator\n",
    "\n",
    "Remember the concept of generator? Let's practice using them to futher our understanding of how they work.\n",
    "\n",
    "Let's define a generator and then run it as practice.\n",
    "\n",
    "**Answer the following questions:**\n",
    "\n",
    "- **Question 1: What is the sum of the outputs of the generator for limit = 5?**\n",
    "- **Question 2: What is the 13th number yielded**\n",
    "\n",
    "I suggest practicing these questions without GPT as the purpose is to further your learning."
   ],
   "metadata": {
    "id": "wLF4iXf-NR7t"
   }
  },
  {
   "cell_type": "code",
   "source": [
    "def square_root_generator(limit):\n",
    "    n = 1\n",
    "    while n <= limit:\n",
    "        yield n ** 0.5\n",
    "        n += 1\n",
    "\n",
    "\n",
    "# Example usage:\n",
    "limit = 5\n",
    "generator = square_root_generator(limit)\n",
    "\n",
    "for sqrt_value in generator:\n",
    "    print(sqrt_value)\n"
   ],
   "metadata": {
    "colab": {
     "base_uri": "https://localhost:8080/"
    },
    "id": "wLng-bDJN4jf",
    "outputId": "547683cb-5f56-4815-a903-d0d9578eb1f9",
    "ExecuteTime": {
     "end_time": "2024-02-19T07:22:14.094709100Z",
     "start_time": "2024-02-19T07:22:14.044639200Z"
    }
   },
   "execution_count": 1,
   "outputs": [
    {
     "name": "stdout",
     "output_type": "stream",
     "text": [
      "1.0\n",
      "1.4142135623730951\n",
      "1.7320508075688772\n",
      "2.0\n",
      "2.23606797749979\n"
     ]
    }
   ]
  },
  {
   "cell_type": "markdown",
   "source": [
    "## Question 1: What is the sum of the outputs of the generator for limit = 5?\n",
    "\n",
    "- 10.234\n",
    "- 7.892\n",
    "- <font color='red'>**8.382**</font>\n",
    "- 9.123"
   ],
   "metadata": {
    "collapsed": false
   }
  },
  {
   "cell_type": "code",
   "outputs": [
    {
     "data": {
      "text/plain": "8.382332347441762"
     },
     "execution_count": 2,
     "metadata": {},
     "output_type": "execute_result"
    }
   ],
   "source": [
    "generator_with_limit_5 = square_root_generator(limit=5)\n",
    "\n",
    "# This does not generate items on the fly but parses the generator expression to a list, which is not suitable for large datasets but gets the job done for this question\n",
    "sum(list(generator_with_limit_5))  # Answer is 8.38"
   ],
   "metadata": {
    "collapsed": false,
    "ExecuteTime": {
     "end_time": "2024-02-19T07:22:20.883443600Z",
     "start_time": "2024-02-19T07:22:20.773517300Z"
    }
   },
   "execution_count": 2
  },
  {
   "cell_type": "markdown",
   "source": [
    "## Question 2: What is the 13th number yielded by the generator?\n",
    "\n",
    "- 4.236\n",
    "- <font color='red'>**3.605**</font>\n",
    "- 2.345\n",
    "- 5.678"
   ],
   "metadata": {
    "collapsed": false
   }
  },
  {
   "cell_type": "code",
   "outputs": [
    {
     "data": {
      "text/plain": "3.605551275463989"
     },
     "execution_count": 3,
     "metadata": {},
     "output_type": "execute_result"
    }
   ],
   "source": [
    "generator_with_limit_13 = square_root_generator(limit=13)\n",
    "\n",
    "# This does not generate items on the fly but parses the generator expression to a list, which is not suitable for large datasets but gets the job done for this question\n",
    "list(generator_with_limit_13)[-1]"
   ],
   "metadata": {
    "collapsed": false,
    "ExecuteTime": {
     "end_time": "2024-02-19T07:25:27.735515Z",
     "start_time": "2024-02-19T07:25:27.711434700Z"
    }
   },
   "execution_count": 3
  },
  {
   "cell_type": "markdown",
   "source": [],
   "metadata": {
    "id": "xbe3q55zN43j"
   }
  },
  {
   "cell_type": "markdown",
   "source": [
    "# 2. Append a generator to a table with existing data\n",
    "\n",
    "\n",
    "Below you have 2 generators. You will be tasked to load them to duckdb and answer some questions from the data\n",
    "\n",
    "1. Load the first generator and calculate the sum of ages of all people. Make sure to only load it once.\n",
    "2. Append the second generator to the same table as the first.\n",
    "3. **After correctly appending the data, calculate the sum of all ages of people.**\n",
    "\n",
    "\n"
   ],
   "metadata": {
    "id": "vjWhILzGJMpK"
   }
  },
  {
   "cell_type": "code",
   "execution_count": 7,
   "metadata": {
    "colab": {
     "base_uri": "https://localhost:8080/"
    },
    "id": "2MoaQcdLBEk6",
    "outputId": "d2b93dc1-d83f-44ea-aeff-fdf51d75f7aa",
    "ExecuteTime": {
     "end_time": "2024-02-19T07:32:00.727322900Z",
     "start_time": "2024-02-19T07:32:00.716509800Z"
    }
   },
   "outputs": [
    {
     "name": "stdout",
     "output_type": "stream",
     "text": [
      "{'ID': 1, 'Name': 'Person_1', 'Age': 26, 'City': 'City_A'}\n",
      "{'ID': 2, 'Name': 'Person_2', 'Age': 27, 'City': 'City_A'}\n",
      "{'ID': 3, 'Name': 'Person_3', 'Age': 28, 'City': 'City_A'}\n",
      "{'ID': 4, 'Name': 'Person_4', 'Age': 29, 'City': 'City_A'}\n",
      "{'ID': 5, 'Name': 'Person_5', 'Age': 30, 'City': 'City_A'}\n",
      "{'ID': 3, 'Name': 'Person_3', 'Age': 33, 'City': 'City_B', 'Occupation': 'Job_3'}\n",
      "{'ID': 4, 'Name': 'Person_4', 'Age': 34, 'City': 'City_B', 'Occupation': 'Job_4'}\n",
      "{'ID': 5, 'Name': 'Person_5', 'Age': 35, 'City': 'City_B', 'Occupation': 'Job_5'}\n",
      "{'ID': 6, 'Name': 'Person_6', 'Age': 36, 'City': 'City_B', 'Occupation': 'Job_6'}\n",
      "{'ID': 7, 'Name': 'Person_7', 'Age': 37, 'City': 'City_B', 'Occupation': 'Job_7'}\n",
      "{'ID': 8, 'Name': 'Person_8', 'Age': 38, 'City': 'City_B', 'Occupation': 'Job_8'}\n"
     ]
    }
   ],
   "source": [
    "def people_1():\n",
    "    for i in range(1, 6):\n",
    "        yield {\"ID\": i, \"Name\": f\"Person_{i}\", \"Age\": 25 + i, \"City\": \"City_A\"}\n",
    "\n",
    "\n",
    "for person in people_1():\n",
    "    print(person)\n",
    "\n",
    "\n",
    "def people_2():\n",
    "    for i in range(3, 9):\n",
    "        yield {\"ID\": i, \"Name\": f\"Person_{i}\", \"Age\": 30 + i, \"City\": \"City_B\", \"Occupation\": f\"Job_{i}\"}\n",
    "\n",
    "\n",
    "for person in people_2():\n",
    "    print(person)\n"
   ]
  },
  {
   "cell_type": "markdown",
   "source": [
    "## Question 3. Append the 2 generators. After correctly appending the data, calculate the sum of all ages of people.\n",
    "- <font color='red'>**353**</font>\n",
    "- 365\n",
    "- 378\n",
    "- 390"
   ],
   "metadata": {
    "collapsed": false
   }
  },
  {
   "cell_type": "code",
   "outputs": [
    {
     "name": "stdout",
     "output_type": "stream",
     "text": [
      "Pipeline dlt_ipykernel_launcher load step completed in 0.39 seconds\n",
      "1 load package(s) were loaded to destination duckdb and into dataset gen_people\n",
      "The duckdb destination used duckdb:///C:\\Projects\\Python\\de-zoomcamp-2024\\02-workshop-1-data-ingestion\\homework\\dlt_ipykernel_launcher.duckdb location to store data\n",
      "Load package 1708328180.5839927 is LOADED and contains no failed jobs\n",
      "\n",
      "Sum of ages:\n"
     ]
    },
    {
     "data": {
      "text/plain": "   sum(Age)\n0     140.0",
      "text/html": "<div>\n<style scoped>\n    .dataframe tbody tr th:only-of-type {\n        vertical-align: middle;\n    }\n\n    .dataframe tbody tr th {\n        vertical-align: top;\n    }\n\n    .dataframe thead th {\n        text-align: right;\n    }\n</style>\n<table border=\"1\" class=\"dataframe\">\n  <thead>\n    <tr style=\"text-align: right;\">\n      <th></th>\n      <th>sum(Age)</th>\n    </tr>\n  </thead>\n  <tbody>\n    <tr>\n      <th>0</th>\n      <td>140.0</td>\n    </tr>\n  </tbody>\n</table>\n</div>"
     },
     "metadata": {},
     "output_type": "display_data"
    }
   ],
   "source": [
    "import dlt\n",
    "import duckdb\n",
    "\n",
    "people_pipeline = dlt.pipeline(destination='duckdb', dataset_name='gen_people')\n",
    "info = people_pipeline.run(people_1(), table_name='people', write_disposition='replace')\n",
    "print(info)\n",
    "\n",
    "conn = duckdb.connect(f\"{people_pipeline.pipeline_name}.duckdb\")\n",
    "\n",
    "print(\"\\nSum of ages:\")\n",
    "sum_ages = conn.sql(\"SELECT SUM(Age) FROM gen_people.people\").df()\n",
    "display(sum_ages)"
   ],
   "metadata": {
    "collapsed": false,
    "ExecuteTime": {
     "end_time": "2024-02-19T07:36:21.515796500Z",
     "start_time": "2024-02-19T07:36:20.471209400Z"
    }
   },
   "execution_count": 14
  },
  {
   "cell_type": "code",
   "outputs": [
    {
     "name": "stdout",
     "output_type": "stream",
     "text": [
      "Pipeline dlt_ipykernel_launcher load step completed in 0.27 seconds\n",
      "1 load package(s) were loaded to destination duckdb and into dataset gen_people\n",
      "The duckdb destination used duckdb:///C:\\Projects\\Python\\de-zoomcamp-2024\\02-workshop-1-data-ingestion\\homework\\dlt_ipykernel_launcher.duckdb location to store data\n",
      "Load package 1708328184.1516876 is LOADED and contains no failed jobs\n",
      "\n",
      "Sum of ages:\n"
     ]
    },
    {
     "data": {
      "text/plain": "   sum(Age)\n0     353.0",
      "text/html": "<div>\n<style scoped>\n    .dataframe tbody tr th:only-of-type {\n        vertical-align: middle;\n    }\n\n    .dataframe tbody tr th {\n        vertical-align: top;\n    }\n\n    .dataframe thead th {\n        text-align: right;\n    }\n</style>\n<table border=\"1\" class=\"dataframe\">\n  <thead>\n    <tr style=\"text-align: right;\">\n      <th></th>\n      <th>sum(Age)</th>\n    </tr>\n  </thead>\n  <tbody>\n    <tr>\n      <th>0</th>\n      <td>353.0</td>\n    </tr>\n  </tbody>\n</table>\n</div>"
     },
     "metadata": {},
     "output_type": "display_data"
    }
   ],
   "source": [
    "info_2 = people_pipeline.run(people_2(), table_name='people', write_disposition='append')\n",
    "print(info_2)\n",
    "\n",
    "print(\"\\nSum of ages:\")\n",
    "sum_ages = conn.sql(\"SELECT SUM(Age) FROM gen_people.people\").df()\n",
    "display(sum_ages)  # Age Sum is equal to 353 when appending the data"
   ],
   "metadata": {
    "collapsed": false,
    "ExecuteTime": {
     "end_time": "2024-02-19T07:36:25.008901900Z",
     "start_time": "2024-02-19T07:36:24.069099500Z"
    }
   },
   "execution_count": 15
  },
  {
   "cell_type": "markdown",
   "source": [],
   "metadata": {
    "id": "vtdTIm4fvQCN"
   }
  },
  {
   "cell_type": "markdown",
   "source": [
    "# 3. Merge a generator\n",
    "\n",
    "Re-use the generators from Exercise 2.\n",
    "\n",
    "A table's primary key needs to be created from the start, so load your data to a new table with primary key ID.\n",
    "\n",
    "Load your first generator first, and then load the second one with merge. Since they have overlapping IDs, some of the records from the first load should be replaced by the ones from the second load.\n",
    "\n",
    "After loading, you should have a total of 8 records, and ID 3 should have age 33.\n",
    "\n",
    "Question: **Calculate the sum of ages of all the people loaded as described above.**\n"
   ],
   "metadata": {
    "id": "pY4cFAWOSwN1"
   }
  },
  {
   "cell_type": "markdown",
   "source": [
    "# Solution: First make sure that the following modules are installed:"
   ],
   "metadata": {
    "id": "kKB2GTB9oVjr"
   }
  },
  {
   "cell_type": "code",
   "source": [
    "#Install the dependencies\n",
    "%%capture\n",
    "!pip install dlt[duckdb]"
   ],
   "metadata": {
    "id": "xTVvtyqrfVNq"
   },
   "execution_count": null,
   "outputs": []
  },
  {
   "cell_type": "markdown",
   "source": [
    "## Question 4: Merge the 2 generators using the ID column. Calculate the sum of ages of all the people loaded as described above.\n",
    "\n",
    "- 215\n",
    "- <font color='red'>**266**</font>\n",
    "- 241\n",
    "- 258"
   ],
   "metadata": {
    "collapsed": false
   }
  },
  {
   "cell_type": "code",
   "outputs": [
    {
     "name": "stdout",
     "output_type": "stream",
     "text": [
      "Pipeline dlt_ipykernel_launcher load step completed in 0.33 seconds\n",
      "1 load package(s) were loaded to destination duckdb and into dataset gen_people\n",
      "The duckdb destination used duckdb:///C:\\Projects\\Python\\de-zoomcamp-2024\\02-workshop-1-data-ingestion\\homework\\dlt_ipykernel_launcher.duckdb location to store data\n",
      "Load package 1708328480.8484364 is LOADED and contains no failed jobs\n",
      "Pipeline dlt_ipykernel_launcher load step completed in 0.66 seconds\n",
      "1 load package(s) were loaded to destination duckdb and into dataset gen_people\n",
      "The duckdb destination used duckdb:///C:\\Projects\\Python\\de-zoomcamp-2024\\02-workshop-1-data-ingestion\\homework\\dlt_ipykernel_launcher.duckdb location to store data\n",
      "Load package 1708328481.8495686 is LOADED and contains no failed jobs\n",
      "\n",
      "Table:\n"
     ]
    },
    {
     "data": {
      "text/plain": "   id      name  age    city        _dlt_load_id         _dlt_id occupation\n0   1  Person_1   26  City_A  1708328480.8484364  2d/jZ359uamOrw       None\n1   2  Person_2   27  City_A  1708328480.8484364  INFcloazGz15OA       None\n2   7  Person_7   37  City_B  1708328481.8495686  q4t0bk9gV7bvDg      Job_7\n3   5  Person_5   35  City_B  1708328481.8495686  spfdyk738ry7TQ      Job_5\n4   4  Person_4   34  City_B  1708328481.8495686  XxNV8GHs0L7WKQ      Job_4\n5   3  Person_3   33  City_B  1708328481.8495686  2JLuCtQwc2GSLg      Job_3\n6   6  Person_6   36  City_B  1708328481.8495686  Gf7VxrhrZJiRDQ      Job_6\n7   8  Person_8   38  City_B  1708328481.8495686  +bB7GGAQMawYZQ      Job_8",
      "text/html": "<div>\n<style scoped>\n    .dataframe tbody tr th:only-of-type {\n        vertical-align: middle;\n    }\n\n    .dataframe tbody tr th {\n        vertical-align: top;\n    }\n\n    .dataframe thead th {\n        text-align: right;\n    }\n</style>\n<table border=\"1\" class=\"dataframe\">\n  <thead>\n    <tr style=\"text-align: right;\">\n      <th></th>\n      <th>id</th>\n      <th>name</th>\n      <th>age</th>\n      <th>city</th>\n      <th>_dlt_load_id</th>\n      <th>_dlt_id</th>\n      <th>occupation</th>\n    </tr>\n  </thead>\n  <tbody>\n    <tr>\n      <th>0</th>\n      <td>1</td>\n      <td>Person_1</td>\n      <td>26</td>\n      <td>City_A</td>\n      <td>1708328480.8484364</td>\n      <td>2d/jZ359uamOrw</td>\n      <td>None</td>\n    </tr>\n    <tr>\n      <th>1</th>\n      <td>2</td>\n      <td>Person_2</td>\n      <td>27</td>\n      <td>City_A</td>\n      <td>1708328480.8484364</td>\n      <td>INFcloazGz15OA</td>\n      <td>None</td>\n    </tr>\n    <tr>\n      <th>2</th>\n      <td>7</td>\n      <td>Person_7</td>\n      <td>37</td>\n      <td>City_B</td>\n      <td>1708328481.8495686</td>\n      <td>q4t0bk9gV7bvDg</td>\n      <td>Job_7</td>\n    </tr>\n    <tr>\n      <th>3</th>\n      <td>5</td>\n      <td>Person_5</td>\n      <td>35</td>\n      <td>City_B</td>\n      <td>1708328481.8495686</td>\n      <td>spfdyk738ry7TQ</td>\n      <td>Job_5</td>\n    </tr>\n    <tr>\n      <th>4</th>\n      <td>4</td>\n      <td>Person_4</td>\n      <td>34</td>\n      <td>City_B</td>\n      <td>1708328481.8495686</td>\n      <td>XxNV8GHs0L7WKQ</td>\n      <td>Job_4</td>\n    </tr>\n    <tr>\n      <th>5</th>\n      <td>3</td>\n      <td>Person_3</td>\n      <td>33</td>\n      <td>City_B</td>\n      <td>1708328481.8495686</td>\n      <td>2JLuCtQwc2GSLg</td>\n      <td>Job_3</td>\n    </tr>\n    <tr>\n      <th>6</th>\n      <td>6</td>\n      <td>Person_6</td>\n      <td>36</td>\n      <td>City_B</td>\n      <td>1708328481.8495686</td>\n      <td>Gf7VxrhrZJiRDQ</td>\n      <td>Job_6</td>\n    </tr>\n    <tr>\n      <th>7</th>\n      <td>8</td>\n      <td>Person_8</td>\n      <td>38</td>\n      <td>City_B</td>\n      <td>1708328481.8495686</td>\n      <td>+bB7GGAQMawYZQ</td>\n      <td>Job_8</td>\n    </tr>\n  </tbody>\n</table>\n</div>"
     },
     "metadata": {},
     "output_type": "display_data"
    },
    {
     "name": "stdout",
     "output_type": "stream",
     "text": [
      "\n",
      "Sum of ages:\n"
     ]
    },
    {
     "data": {
      "text/plain": "   sum(Age)\n0     266.0",
      "text/html": "<div>\n<style scoped>\n    .dataframe tbody tr th:only-of-type {\n        vertical-align: middle;\n    }\n\n    .dataframe tbody tr th {\n        vertical-align: top;\n    }\n\n    .dataframe thead th {\n        text-align: right;\n    }\n</style>\n<table border=\"1\" class=\"dataframe\">\n  <thead>\n    <tr style=\"text-align: right;\">\n      <th></th>\n      <th>sum(Age)</th>\n    </tr>\n  </thead>\n  <tbody>\n    <tr>\n      <th>0</th>\n      <td>266.0</td>\n    </tr>\n  </tbody>\n</table>\n</div>"
     },
     "metadata": {},
     "output_type": "display_data"
    }
   ],
   "source": [
    "info = people_pipeline.run(people_1(), table_name='merged_people', write_disposition='replace', primary_key='ID')\n",
    "print(info)\n",
    "\n",
    "info_2 = people_pipeline.run(people_2(), table_name=\"merged_people\", write_disposition=\"merge\", primary_key='ID')\n",
    "print(info_2)\n",
    "\n",
    "print(\"\\nTable:\")\n",
    "table = conn.sql(\"SELECT * FROM gen_people.merged_people\").df()\n",
    "display(table)\n",
    "\n",
    "print(\"\\nSum of ages:\")\n",
    "sum_ages = conn.sql(\"SELECT SUM(Age) FROM gen_people.merged_people\").df()\n",
    "display(sum_ages)  ## Age sum when merging data is equal to 266"
   ],
   "metadata": {
    "collapsed": false,
    "ExecuteTime": {
     "end_time": "2024-02-19T07:41:23.287840900Z",
     "start_time": "2024-02-19T07:41:20.770945800Z"
    }
   },
   "execution_count": 20
  },
  {
   "cell_type": "markdown",
   "source": [
    "Questions? difficulties? We are here to help.\n",
    "- DTC data engineering course channel: https://datatalks-club.slack.com/archives/C01FABYF2RG\n",
    "- dlt's DTC cohort channel: https://dlthub-community.slack.com/archives/C06GAEX2VNX"
   ],
   "metadata": {
    "id": "PoTJu4kbGG0z"
   }
  }
 ]
}
